{
 "cells": [
  {
   "cell_type": "markdown",
   "id": "4d55e821",
   "metadata": {},
   "source": [
    "# OJO OLUWATISE AJIBOLA \n",
    "# EEG/2019/050\n",
    "# DIY 1"
   ]
  },
  {
   "cell_type": "code",
   "execution_count": 1,
   "id": "b37a5529",
   "metadata": {},
   "outputs": [
    {
     "name": "stdout",
     "output_type": "stream",
     "text": [
      "Enter a positive integer: 5\n",
      "5\n"
     ]
    }
   ],
   "source": [
    "max_val = int(input(\"Enter a positive integer: \"))\n",
    "i = 0 \n",
    "while i < max_val:\n",
    "    i = i + 1\n",
    "print(i)"
   ]
  },
  {
   "cell_type": "code",
   "execution_count": 2,
   "id": "5aaf916b",
   "metadata": {},
   "outputs": [
    {
     "name": "stdout",
     "output_type": "stream",
     "text": [
      "Enter a positive integer: 89\n",
      "89\n",
      "Time taken to run the code is 0.0 seconds\n"
     ]
    }
   ],
   "source": [
    "#DIY1\n",
    "import time #importing time module\n",
    "max_val = int(input(\"Enter a positive integer: \"))\n",
    "i = 0 \n",
    "start_time = time.time() #start measuring time \n",
    "while i < max_val:\n",
    "    i = i + 1\n",
    "    \n",
    "end_time = time.time() #end measuring time \n",
    "\n",
    "print(i)\n",
    "print(f\"Time taken to run the code is {end_time -start_time} seconds\") #time taken for the code to run\n",
    "\n",
    "\n"
   ]
  },
  {
   "cell_type": "markdown",
   "id": "73f2865d",
   "metadata": {},
   "source": [
    "# DIY 2\n"
   ]
  },
  {
   "cell_type": "code",
   "execution_count": 4,
   "id": "10d22a82",
   "metadata": {},
   "outputs": [
    {
     "name": "stdout",
     "output_type": "stream",
     "text": [
      "Enter an integer greater than 2: 65\n",
      "largest divisor of 65 is 13.0.\n"
     ]
    }
   ],
   "source": [
    "## Test if an int > 2 is prime. if not print smallest divisor\n",
    "x = int(input(\"Enter an integer greater than 2: \"))\n",
    "smallest_divisor = None \n",
    "for guess in range(2,x):\n",
    "    if x % guess == 0:\n",
    "        smallest_divisor = guess\n",
    "        largest_divisor = x / smallest_divisor #getting the largest divisor\n",
    "        break \n",
    "if smallest_divisor != None:\n",
    "    print(f\"largest divisor of {x} is {largest_divisor}.\") #printing the largest divisor\n",
    "else :\n",
    "    print(f\"{x} is a prime number\")\n",
    "        \n",
    "        \n",
    "            \n",
    "            "
   ]
  },
  {
   "cell_type": "markdown",
   "id": "015676f1",
   "metadata": {},
   "source": [
    "# DIY 3"
   ]
  },
  {
   "cell_type": "code",
   "execution_count": 11,
   "id": "9e16d088",
   "metadata": {},
   "outputs": [
    {
     "name": "stdout",
     "output_type": "stream",
     "text": [
      "76125\n"
     ]
    }
   ],
   "source": [
    "\n",
    "    def is_prime(n):            #creating a function for prime number\n",
    "        if n < 2:                   #once the number is less than 2 return false\n",
    "            return False  \n",
    "        for i in range(2, int(n ** 0.5) + 1):  #testing if the number is a prime number\n",
    "            if n % i == 0:\n",
    "                return False\n",
    "        return True\n",
    "\n",
    "sum_of_primes = 0\n",
    "\n",
    "#loop to sum the prime numbers between 2 and 999\n",
    "for i in range(3, 1000):\n",
    "        if is_prime(i):                #check if i is a prime numbers\n",
    "            sum_of_primes += i         #adding all prime numbers between 2 and 999\n",
    "\n",
    "print(sum_of_primes)\n",
    "\n",
    "        \n",
    "    \n",
    "    \n",
    "    \n",
    "    "
   ]
  },
  {
   "cell_type": "markdown",
   "id": "8042d546",
   "metadata": {},
   "source": [
    "# DIY 4\n"
   ]
  },
  {
   "cell_type": "code",
   "execution_count": null,
   "id": "b76f83f0",
   "metadata": {},
   "outputs": [],
   "source": []
  },
  {
   "cell_type": "markdown",
   "id": "16ff0a67",
   "metadata": {},
   "source": [
    "# DIY 5"
   ]
  },
  {
   "cell_type": "code",
   "execution_count": 7,
   "id": "9300e7b1",
   "metadata": {},
   "outputs": [
    {
     "name": "stdout",
     "output_type": "stream",
     "text": [
      "Enter the first number:5\n",
      "Enter the second number:5\n",
      "The product of 5 and 5 is 25\n"
     ]
    }
   ],
   "source": [
    "import math\n",
    "first_number = int(input(\"Enter the first number:\" ))\n",
    "second_number = int(input(\"Enter the second number:\" ))\n",
    "\n",
    "log_first_number = math.log(first_number, 10)     #finding the log of the first number\n",
    "log_second_number = math.log(second_number, 10)   #finding the log of the second number\n",
    "sum_of_logs = log_first_number + log_second_number    #summing the log of the two numbers \n",
    "\n",
    "anti_log = round(10**sum_of_logs) \n",
    "\n",
    "print(f\"The product of {first_number} and {second_number} is {anti_log}\")\n"
   ]
  },
  {
   "cell_type": "markdown",
   "id": "0075a4d4",
   "metadata": {},
   "source": [
    "# DIY 6\n"
   ]
  },
  {
   "cell_type": "code",
   "execution_count": 8,
   "id": "76ce3a94",
   "metadata": {},
   "outputs": [
    {
     "name": "stdout",
     "output_type": "stream",
     "text": [
      "Enter the value of gain: 76\n",
      "The gain is 76.0, which is equivalent to 228.78 dB.\n"
     ]
    }
   ],
   "source": [
    "import math\n",
    "\n",
    "epsilon = 0.01\n",
    "gain = float(input(\"Enter the value of gain: \"))\n",
    "x = 2 ** gain\n",
    "\n",
    "# Find lower bound on ans\n",
    "lower_bound = 0\n",
    "while 2 ** lower_bound < x:\n",
    "    lower_bound += 1\n",
    "low = lower_bound - 1\n",
    "high = lower_bound + 1\n",
    "\n",
    "# Perform bisection research\n",
    "ans = (high + low) / 2\n",
    "while abs(2 ** ans - x) >= epsilon:\n",
    "    if 2 ** ans < x:\n",
    "        low = ans\n",
    "    else:\n",
    "        high = ans\n",
    "    ans = (high + low) / 2\n",
    "\n",
    "# Convert ans to dB\n",
    "dB = 10 * math.log10(x)\n",
    "\n",
    "print(f\"The gain is {gain}, which is equivalent to {dB:.2f} dB.\")\n"
   ]
  },
  {
   "cell_type": "code",
   "execution_count": null,
   "id": "93e3a928",
   "metadata": {},
   "outputs": [],
   "source": []
  }
 ],
 "metadata": {
  "kernelspec": {
   "display_name": "Python 3 (ipykernel)",
   "language": "python",
   "name": "python3"
  },
  "language_info": {
   "codemirror_mode": {
    "name": "ipython",
    "version": 3
   },
   "file_extension": ".py",
   "mimetype": "text/x-python",
   "name": "python",
   "nbconvert_exporter": "python",
   "pygments_lexer": "ipython3",
   "version": "3.9.13"
  }
 },
 "nbformat": 4,
 "nbformat_minor": 5
}
